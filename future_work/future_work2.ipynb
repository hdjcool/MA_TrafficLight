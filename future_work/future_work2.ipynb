{
 "cells": [
  {
   "cell_type": "code",
   "execution_count": 2,
   "id": "4a6b6928-8f3b-4496-a7fc-47d02a52a1ce",
   "metadata": {},
   "outputs": [],
   "source": [
    "from ultralytics import SAM"
   ]
  },
  {
   "cell_type": "code",
   "execution_count": 15,
   "id": "0573fc34-eedc-41c9-839e-32b9beee21b7",
   "metadata": {},
   "outputs": [],
   "source": [
    "model = SAM(\"sam2.1_b.pt\")"
   ]
  },
  {
   "cell_type": "code",
   "execution_count": 21,
   "id": "36a26eeb-c2b0-416a-931a-8a5faca95c83",
   "metadata": {},
   "outputs": [
    {
     "name": "stdout",
     "output_type": "stream",
     "text": [
      "\n",
      "image 1/1 /ultralytics/examples/Work_dir/seg_test2.jpg: 1024x1024 1 0, 4442.5ms\n",
      "Speed: 78.8ms preprocess, 4442.5ms inference, 4.1ms postprocess per image at shape (1, 3, 1024, 1024)\n",
      "Results saved to \u001b[1m/data/runs/segment/predict2\u001b[0m\n"
     ]
    }
   ],
   "source": [
    "# Run inference with bboxes prompt\n",
    "results = model(\"/ultralytics/examples/Work_dir/seg_test2.jpg\", bboxes=[280, 290, 340, 450], labels=[1], save=True)"
   ]
  },
  {
   "cell_type": "code",
   "execution_count": 20,
   "id": "85d5e286-902a-4d4a-9b39-477fc2934668",
   "metadata": {},
   "outputs": [
    {
     "name": "stdout",
     "output_type": "stream",
     "text": [
      "\n",
      "image 1/1 /ultralytics/examples/Work_dir/seg_test2.jpg: 1024x1024 1 0, 1 1, 1 2, 1 3, 1 4, 1 5, 1 6, 1 7, 1 8, 1 9, 1 10, 1 11, 1 12, 1 13, 1 14, 120452.1ms\n",
      "Speed: 9.3ms preprocess, 120452.1ms inference, 12.2ms postprocess per image at shape (1, 3, 1024, 1024)\n",
      "Results saved to \u001b[1m/data/runs/segment/predict2\u001b[0m\n"
     ]
    },
    {
     "data": {
      "text/plain": [
       "[ultralytics.engine.results.Results object with attributes:\n",
       " \n",
       " boxes: ultralytics.engine.results.Boxes object\n",
       " keypoints: None\n",
       " masks: ultralytics.engine.results.Masks object\n",
       " names: {0: '0', 1: '1', 2: '2', 3: '3', 4: '4', 5: '5', 6: '6', 7: '7', 8: '8', 9: '9', 10: '10', 11: '11', 12: '12', 13: '13', 14: '14'}\n",
       " obb: None\n",
       " orig_img: array([[[222, 190, 167],\n",
       "         [222, 190, 167],\n",
       "         [224, 191, 172],\n",
       "         ...,\n",
       "         [243, 224, 209],\n",
       "         [243, 224, 209],\n",
       "         [241, 222, 207]],\n",
       " \n",
       "        [[223, 191, 168],\n",
       "         [223, 190, 170],\n",
       "         [224, 191, 171],\n",
       "         ...,\n",
       "         [243, 224, 209],\n",
       "         [242, 223, 208],\n",
       "         [242, 223, 208]],\n",
       " \n",
       "        [[224, 191, 171],\n",
       "         [225, 192, 172],\n",
       "         [224, 191, 171],\n",
       "         ...,\n",
       "         [243, 224, 209],\n",
       "         [243, 224, 209],\n",
       "         [242, 223, 208]],\n",
       " \n",
       "        ...,\n",
       " \n",
       "        [[ 94, 104, 114],\n",
       "         [ 96, 106, 116],\n",
       "         [ 92, 101, 114],\n",
       "         ...,\n",
       "         [ 37,  46,  49],\n",
       "         [ 36,  45,  48],\n",
       "         [ 34,  44,  44]],\n",
       " \n",
       "        [[ 89,  98, 107],\n",
       "         [ 88,  97, 107],\n",
       "         [ 90,  99, 109],\n",
       "         ...,\n",
       "         [ 34,  43,  46],\n",
       "         [ 36,  45,  48],\n",
       "         [ 35,  44,  47]],\n",
       " \n",
       "        [[ 80,  89,  98],\n",
       "         [ 92, 101, 110],\n",
       "         [ 89,  98, 108],\n",
       "         ...,\n",
       "         [ 38,  47,  50],\n",
       "         [ 37,  46,  50],\n",
       "         [ 37,  46,  50]]], dtype=uint8)\n",
       " orig_shape: (450, 600)\n",
       " path: '/ultralytics/examples/Work_dir/seg_test2.jpg'\n",
       " probs: None\n",
       " save_dir: '/data/runs/segment/predict2'\n",
       " speed: {'preprocess': 9.332418441772461, 'inference': 120452.08239555359, 'postprocess': 12.157678604125977}]"
      ]
     },
     "execution_count": 20,
     "metadata": {},
     "output_type": "execute_result"
    }
   ],
   "source": [
    "model(\"/ultralytics/examples/Work_dir/seg_test2.jpg\", save=True)"
   ]
  },
  {
   "cell_type": "code",
   "execution_count": null,
   "id": "13390c3b-d72f-49b0-9d70-6d7abb674983",
   "metadata": {},
   "outputs": [],
   "source": [
    "model = SAM(\"sam2.1_b.pt\")\n",
    "\n",
    "# Display model information (optional)\n",
    "model.info()\n",
    "\n",
    "\n",
    "\n",
    "# Run inference with single point\n",
    "results = model(points=[900, 370], labels=[1])\n",
    "\n",
    "# Run inference with multiple points\n",
    "results = model(points=[[400, 370], [900, 370]], labels=[1, 1])\n",
    "\n",
    "# Run inference with multiple points prompt per object\n",
    "results = model(points=[[[400, 370], [900, 370]]], labels=[[1, 1]])\n",
    "\n",
    "# Run inference with negative points prompt\n",
    "results = model(points=[[[400, 370], [900, 370]]], labels=[[1, 0]])"
   ]
  }
 ],
 "metadata": {
  "kernelspec": {
   "display_name": "Python 3 (ipykernel)",
   "language": "python",
   "name": "python3"
  },
  "language_info": {
   "codemirror_mode": {
    "name": "ipython",
    "version": 3
   },
   "file_extension": ".py",
   "mimetype": "text/x-python",
   "name": "python",
   "nbconvert_exporter": "python",
   "pygments_lexer": "ipython3",
   "version": "3.11.10"
  }
 },
 "nbformat": 4,
 "nbformat_minor": 5
}
