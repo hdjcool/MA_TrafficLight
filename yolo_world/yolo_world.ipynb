{
  "cells": [
    {
      "cell_type": "code",
      "execution_count": 1,
      "metadata": {
        "colab": {
          "base_uri": "https://localhost:8080/"
        },
        "id": "qj6B1pwKBkdO",
        "outputId": "f26fdc6f-779d-4037-b9f5-cc970233e0f8"
      },
      "outputs": [
        {
          "name": "stdout",
          "output_type": "stream",
          "text": [
            "Requirement already satisfied: ultralytics in /Users/hdj/miniforge3/envs/ultralytics-env/lib/python3.11/site-packages (8.3.62)\n",
            "Requirement already satisfied: numpy>=1.23.0 in /Users/hdj/miniforge3/envs/ultralytics-env/lib/python3.11/site-packages (from ultralytics) (1.26.4)\n",
            "Requirement already satisfied: matplotlib>=3.3.0 in /Users/hdj/miniforge3/envs/ultralytics-env/lib/python3.11/site-packages (from ultralytics) (3.10.0)\n",
            "Requirement already satisfied: opencv-python>=4.6.0 in /Users/hdj/miniforge3/envs/ultralytics-env/lib/python3.11/site-packages (from ultralytics) (4.10.0)\n",
            "Requirement already satisfied: pillow>=7.1.2 in /Users/hdj/miniforge3/envs/ultralytics-env/lib/python3.11/site-packages (from ultralytics) (11.1.0)\n",
            "Requirement already satisfied: pyyaml>=5.3.1 in /Users/hdj/miniforge3/envs/ultralytics-env/lib/python3.11/site-packages (from ultralytics) (6.0.2)\n",
            "Requirement already satisfied: requests>=2.23.0 in /Users/hdj/miniforge3/envs/ultralytics-env/lib/python3.11/site-packages (from ultralytics) (2.32.3)\n",
            "Requirement already satisfied: scipy>=1.4.1 in /Users/hdj/miniforge3/envs/ultralytics-env/lib/python3.11/site-packages (from ultralytics) (1.15.1)\n",
            "Requirement already satisfied: torch>=1.8.0 in /Users/hdj/miniforge3/envs/ultralytics-env/lib/python3.11/site-packages (from ultralytics) (2.5.1)\n",
            "Requirement already satisfied: torchvision>=0.9.0 in /Users/hdj/miniforge3/envs/ultralytics-env/lib/python3.11/site-packages (from ultralytics) (0.20.1)\n",
            "Requirement already satisfied: tqdm>=4.64.0 in /Users/hdj/miniforge3/envs/ultralytics-env/lib/python3.11/site-packages (from ultralytics) (4.67.1)\n",
            "Requirement already satisfied: psutil in /Users/hdj/miniforge3/envs/ultralytics-env/lib/python3.11/site-packages (from ultralytics) (6.1.1)\n",
            "Requirement already satisfied: py-cpuinfo in /Users/hdj/miniforge3/envs/ultralytics-env/lib/python3.11/site-packages (from ultralytics) (9.0.0)\n",
            "Requirement already satisfied: pandas>=1.1.4 in /Users/hdj/miniforge3/envs/ultralytics-env/lib/python3.11/site-packages (from ultralytics) (2.2.3)\n",
            "Requirement already satisfied: seaborn>=0.11.0 in /Users/hdj/miniforge3/envs/ultralytics-env/lib/python3.11/site-packages (from ultralytics) (0.13.2)\n",
            "Requirement already satisfied: ultralytics-thop>=2.0.0 in /Users/hdj/miniforge3/envs/ultralytics-env/lib/python3.11/site-packages (from ultralytics) (2.0.14)\n",
            "Requirement already satisfied: contourpy>=1.0.1 in /Users/hdj/miniforge3/envs/ultralytics-env/lib/python3.11/site-packages (from matplotlib>=3.3.0->ultralytics) (1.3.1)\n",
            "Requirement already satisfied: cycler>=0.10 in /Users/hdj/miniforge3/envs/ultralytics-env/lib/python3.11/site-packages (from matplotlib>=3.3.0->ultralytics) (0.12.1)\n",
            "Requirement already satisfied: fonttools>=4.22.0 in /Users/hdj/miniforge3/envs/ultralytics-env/lib/python3.11/site-packages (from matplotlib>=3.3.0->ultralytics) (4.55.3)\n",
            "Requirement already satisfied: kiwisolver>=1.3.1 in /Users/hdj/miniforge3/envs/ultralytics-env/lib/python3.11/site-packages (from matplotlib>=3.3.0->ultralytics) (1.4.7)\n",
            "Requirement already satisfied: packaging>=20.0 in /Users/hdj/miniforge3/envs/ultralytics-env/lib/python3.11/site-packages (from matplotlib>=3.3.0->ultralytics) (24.2)\n",
            "Requirement already satisfied: pyparsing>=2.3.1 in /Users/hdj/miniforge3/envs/ultralytics-env/lib/python3.11/site-packages (from matplotlib>=3.3.0->ultralytics) (3.2.1)\n",
            "Requirement already satisfied: python-dateutil>=2.7 in /Users/hdj/miniforge3/envs/ultralytics-env/lib/python3.11/site-packages (from matplotlib>=3.3.0->ultralytics) (2.9.0.post0)\n",
            "Requirement already satisfied: pytz>=2020.1 in /Users/hdj/miniforge3/envs/ultralytics-env/lib/python3.11/site-packages (from pandas>=1.1.4->ultralytics) (2024.1)\n",
            "Requirement already satisfied: tzdata>=2022.7 in /Users/hdj/miniforge3/envs/ultralytics-env/lib/python3.11/site-packages (from pandas>=1.1.4->ultralytics) (2024.2)\n",
            "Requirement already satisfied: charset_normalizer<4,>=2 in /Users/hdj/miniforge3/envs/ultralytics-env/lib/python3.11/site-packages (from requests>=2.23.0->ultralytics) (3.4.1)\n",
            "Requirement already satisfied: idna<4,>=2.5 in /Users/hdj/miniforge3/envs/ultralytics-env/lib/python3.11/site-packages (from requests>=2.23.0->ultralytics) (3.10)\n",
            "Requirement already satisfied: urllib3<3,>=1.21.1 in /Users/hdj/miniforge3/envs/ultralytics-env/lib/python3.11/site-packages (from requests>=2.23.0->ultralytics) (2.3.0)\n",
            "Requirement already satisfied: certifi>=2017.4.17 in /Users/hdj/miniforge3/envs/ultralytics-env/lib/python3.11/site-packages (from requests>=2.23.0->ultralytics) (2024.12.14)\n",
            "Requirement already satisfied: filelock in /Users/hdj/miniforge3/envs/ultralytics-env/lib/python3.11/site-packages (from torch>=1.8.0->ultralytics) (3.16.1)\n",
            "Requirement already satisfied: typing-extensions>=4.8.0 in /Users/hdj/miniforge3/envs/ultralytics-env/lib/python3.11/site-packages (from torch>=1.8.0->ultralytics) (4.12.2)\n",
            "Requirement already satisfied: sympy!=1.13.2,>=1.13.1 in /Users/hdj/miniforge3/envs/ultralytics-env/lib/python3.11/site-packages (from torch>=1.8.0->ultralytics) (1.13.3)\n",
            "Requirement already satisfied: networkx in /Users/hdj/miniforge3/envs/ultralytics-env/lib/python3.11/site-packages (from torch>=1.8.0->ultralytics) (3.4.2)\n",
            "Requirement already satisfied: jinja2 in /Users/hdj/miniforge3/envs/ultralytics-env/lib/python3.11/site-packages (from torch>=1.8.0->ultralytics) (3.1.5)\n",
            "Requirement already satisfied: fsspec in /Users/hdj/miniforge3/envs/ultralytics-env/lib/python3.11/site-packages (from torch>=1.8.0->ultralytics) (2024.12.0)\n",
            "Requirement already satisfied: six>=1.5 in /Users/hdj/miniforge3/envs/ultralytics-env/lib/python3.11/site-packages (from python-dateutil>=2.7->matplotlib>=3.3.0->ultralytics) (1.17.0)\n",
            "Requirement already satisfied: mpmath<1.4,>=1.1.0 in /Users/hdj/miniforge3/envs/ultralytics-env/lib/python3.11/site-packages (from sympy!=1.13.2,>=1.13.1->torch>=1.8.0->ultralytics) (1.3.0)\n",
            "Requirement already satisfied: MarkupSafe>=2.0 in /Users/hdj/miniforge3/envs/ultralytics-env/lib/python3.11/site-packages (from jinja2->torch>=1.8.0->ultralytics) (3.0.2)\n"
          ]
        }
      ],
      "source": [
        "!pip install ultralytics"
      ]
    },
    {
      "cell_type": "markdown",
      "metadata": {
        "id": "lFgdO-U4BmN9"
      },
      "source": [
        "### 객체 탐지\n",
        "'emergencyvehicle', 'person', 'bicycle', 'car', 'motorcycle', 'airplane', 'bus', 'train', 'truck'"
      ]
    },
    {
      "cell_type": "code",
      "execution_count": 2,
      "metadata": {
        "id": "XLMm5Ie5CC3y"
      },
      "outputs": [],
      "source": [
        "from ultralytics import YOLO\n",
        "\n",
        "# Initialize a YOLO-World model\n",
        "model = YOLO(\"yolov8x-worldv2.pt\")  # or choose yolov8m/l-world.pt"
      ]
    },
    {
      "cell_type": "code",
      "execution_count": 3,
      "metadata": {
        "id": "TgHpinPADMbo"
      },
      "outputs": [],
      "source": [
        "# Define custom classes\n",
        "model.set_classes(['ambulance', 'fire truck', 'police car', 'person', 'car', 'bicycle', 'motorcycle', 'airplane', 'bus', 'train', 'truck', 'van'])"
      ]
    },
    {
      "cell_type": "code",
      "execution_count": 4,
      "metadata": {
        "id": "EK_RQYx0QSuW"
      },
      "outputs": [],
      "source": [
        "# Save the model with the defined offline vocabulary\n",
        "model.save(\"custom_yolov8x-worldv2.pt\")"
      ]
    },
    {
      "cell_type": "code",
      "execution_count": 5,
      "metadata": {
        "colab": {
          "base_uri": "https://localhost:8080/",
          "height": 900
        },
        "id": "upiRNz66DsxU",
        "outputId": "a6534eb4-3e6e-46d0-a099-6fc8d23eca02"
      },
      "outputs": [
        {
          "name": "stdout",
          "output_type": "stream",
          "text": [
            "\n",
            "image 1/1 /Users/hdj/Desktop/fire_truck_1.png: 384x640 1 fire truck, 1 person, 5 cars, 1 truck, 1577.8ms\n",
            "Speed: 1.6ms preprocess, 1577.8ms inference, 0.5ms postprocess per image at shape (1, 3, 384, 640)\n"
          ]
        }
      ],
      "source": [
        "# Execute prediction for specified categories on an image\n",
        "results = model.predict(\"fire_truck_1.png\")\n",
        "\n",
        "# Show results\n",
        "results[0].show()"
      ]
    },
    {
      "cell_type": "code",
      "execution_count": 6,
      "metadata": {
        "colab": {
          "base_uri": "https://localhost:8080/",
          "height": 900
        },
        "id": "m6Xye2-fHLaS",
        "outputId": "6df77170-c44b-45ea-8566-8c942efb16a9"
      },
      "outputs": [],
      "source": [
        "# # Execute prediction for specified categories on an image\n",
        "# results = model.predict(\"/content/fire_truck_2.png\")\n",
        "\n",
        "# # Show results\n",
        "# results[0].show()"
      ]
    },
    {
      "cell_type": "code",
      "execution_count": 7,
      "metadata": {
        "colab": {
          "base_uri": "https://localhost:8080/",
          "height": 458
        },
        "id": "WGUnZgoQKTKa",
        "outputId": "afefaa84-aa9d-4f60-9f1e-7d484e83520a"
      },
      "outputs": [],
      "source": [
        "# # Execute prediction for specified categories on an image\n",
        "# results = model.predict(\"/content/fire_truck_3.jpg\")\n",
        "\n",
        "# # Show results\n",
        "# results[0].show()"
      ]
    },
    {
      "cell_type": "code",
      "execution_count": 8,
      "metadata": {
        "colab": {
          "base_uri": "https://localhost:8080/",
          "height": 900
        },
        "id": "hBtz65VfGNt3",
        "outputId": "0d9eb26b-bddf-4bc8-b381-22d5b9afffb0"
      },
      "outputs": [],
      "source": [
        "# # Execute prediction for specified categories on an image\n",
        "# results = model.predict(\"/content/ambulance_1.png\")\n",
        "\n",
        "# # Show results\n",
        "# results[0].show()"
      ]
    },
    {
      "cell_type": "code",
      "execution_count": 9,
      "metadata": {
        "colab": {
          "base_uri": "https://localhost:8080/",
          "height": 900
        },
        "id": "20wwfYjBHXgt",
        "outputId": "a031dc06-dfe5-49a6-fd1b-6daf461e0367"
      },
      "outputs": [],
      "source": [
        "# # Execute prediction for specified categories on an image\n",
        "# results = model.predict(\"/content/ambulance_2.png\")\n",
        "\n",
        "# # Show results\n",
        "# results[0].show()"
      ]
    },
    {
      "cell_type": "code",
      "execution_count": 10,
      "metadata": {
        "colab": {
          "base_uri": "https://localhost:8080/",
          "height": 972
        },
        "id": "nzsQ3U0yLMrq",
        "outputId": "bc9ef0f9-fc4d-4db8-a7ef-57e1b53a3a72"
      },
      "outputs": [],
      "source": [
        "# # Execute prediction for specified categories on an image\n",
        "# results = model.predict(\"/content/ambulance_4.jpg\")\n",
        "\n",
        "# # Show results\n",
        "# results[0].show()"
      ]
    },
    {
      "cell_type": "code",
      "execution_count": 11,
      "metadata": {
        "colab": {
          "base_uri": "https://localhost:8080/",
          "height": 900
        },
        "id": "-sx-tA6SD6aR",
        "outputId": "ee7707ca-5652-4c5a-ccc0-e7bfcaa3ab4d"
      },
      "outputs": [],
      "source": [
        "# # Execute prediction for specified categories on an image\n",
        "# results = model.predict(\"/content/police_car_1.png\")\n",
        "\n",
        "# # Show results\n",
        "# results[0].show()"
      ]
    },
    {
      "cell_type": "code",
      "execution_count": 12,
      "metadata": {
        "colab": {
          "base_uri": "https://localhost:8080/",
          "height": 900
        },
        "id": "Hd5ZN-XRGHiR",
        "outputId": "649ab2d6-3b51-4180-b21e-526f304f2f23"
      },
      "outputs": [],
      "source": [
        "# # Execute prediction for specified categories on an image\n",
        "# results = model.predict(\"/content/police_car_2.png\")\n",
        "\n",
        "# # Show results\n",
        "# results[0].show()"
      ]
    },
    {
      "cell_type": "code",
      "execution_count": 13,
      "metadata": {
        "colab": {
          "base_uri": "https://localhost:8080/",
          "height": 1000
        },
        "id": "4igvKFCMG75N",
        "outputId": "0fc4ab5c-2f2e-44f0-d66f-0bdc0204b14e"
      },
      "outputs": [],
      "source": [
        "# # Execute prediction for specified categories on an image\n",
        "# results = model.predict(\"/content/police_car_3.webp\")\n",
        "\n",
        "# # Show results\n",
        "# results[0].show()"
      ]
    },
    {
      "cell_type": "code",
      "execution_count": 14,
      "metadata": {
        "colab": {
          "base_uri": "https://localhost:8080/",
          "height": 900
        },
        "id": "b3aiK0RHJ9O-",
        "outputId": "a6bb975a-c64f-4c48-ce89-1cf32158ec7c"
      },
      "outputs": [],
      "source": [
        "# # Execute prediction for specified categories on an image\n",
        "# results = model.predict(\"/content/C-220721_14_CR12_01_A1060.jpg\")\n",
        "\n",
        "# # Show results\n",
        "# results[0].show()"
      ]
    },
    {
      "cell_type": "code",
      "execution_count": null,
      "metadata": {
        "id": "jDmgOz6TQB7x"
      },
      "outputs": [],
      "source": []
    }
  ],
  "metadata": {
    "colab": {
      "provenance": []
    },
    "kernelspec": {
      "display_name": "ultralytics-env",
      "language": "python",
      "name": "python3"
    },
    "language_info": {
      "codemirror_mode": {
        "name": "ipython",
        "version": 3
      },
      "file_extension": ".py",
      "mimetype": "text/x-python",
      "name": "python",
      "nbconvert_exporter": "python",
      "pygments_lexer": "ipython3",
      "version": "3.11.11"
    }
  },
  "nbformat": 4,
  "nbformat_minor": 0
}
