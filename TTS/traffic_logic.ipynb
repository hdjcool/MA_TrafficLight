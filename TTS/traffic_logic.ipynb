{
 "cells": [
  {
   "cell_type": "markdown",
   "id": "4ccadd49-8b18-4b07-8cdd-db84a1089cd8",
   "metadata": {},
   "source": [
    "### 신호등 로직 및 google tts 음성 출력\n",
    "- 차량 통행량에 따른 비례적 신호길이 조절\n",
    "    - DEFAULT_STOP_TIME 에 곱하는 값을 조절하는 방법으로 신호 길이 조절\n",
    "    - traffic / DEFAULT_TRAFFIC 으로 곱하는 값 설정\n",
    "    - 각 DEFAULT 값들은 교차로 및 횡단보도에 따라 조절\n",
    "- google tts 음성 출력\n",
    "    - 신호 길이에 맞는 문장을 구글 tts를 통해 음성신호로 변환 및 재생"
   ]
  },
  {
   "cell_type": "code",
   "execution_count": 2,
   "id": "bac36a14-8e3b-4beb-a3a1-161175e549da",
   "metadata": {},
   "outputs": [
    {
     "name": "stdout",
     "output_type": "stream",
     "text": [
      "Requirement already satisfied: gtts in c:\\users\\kym19\\anaconda3\\lib\\site-packages (2.5.4)\n",
      "Requirement already satisfied: requests<3,>=2.27 in c:\\users\\kym19\\anaconda3\\lib\\site-packages (from gtts) (2.32.3)\n",
      "Requirement already satisfied: click<8.2,>=7.1 in c:\\users\\kym19\\anaconda3\\lib\\site-packages (from gtts) (8.1.7)\n",
      "Requirement already satisfied: colorama in c:\\users\\kym19\\anaconda3\\lib\\site-packages (from click<8.2,>=7.1->gtts) (0.4.6)\n",
      "Requirement already satisfied: charset-normalizer<4,>=2 in c:\\users\\kym19\\anaconda3\\lib\\site-packages (from requests<3,>=2.27->gtts) (3.3.2)\n",
      "Requirement already satisfied: idna<4,>=2.5 in c:\\users\\kym19\\anaconda3\\lib\\site-packages (from requests<3,>=2.27->gtts) (3.7)\n",
      "Requirement already satisfied: urllib3<3,>=1.21.1 in c:\\users\\kym19\\anaconda3\\lib\\site-packages (from requests<3,>=2.27->gtts) (2.2.3)\n",
      "Requirement already satisfied: certifi>=2017.4.17 in c:\\users\\kym19\\anaconda3\\lib\\site-packages (from requests<3,>=2.27->gtts) (2024.12.14)\n",
      "Requirement already satisfied: playsound==1.2.2 in c:\\users\\kym19\\anaconda3\\lib\\site-packages (1.2.2)\n"
     ]
    }
   ],
   "source": [
    "!pip install gtts\n",
    "!pip install playsound==1.2.2"
   ]
  },
  {
   "cell_type": "code",
   "execution_count": 3,
   "id": "82defef6-fb61-4aaf-abd5-0a553d213ad4",
   "metadata": {},
   "outputs": [
    {
     "name": "stdout",
     "output_type": "stream",
     "text": [
      "신호가 6초 뒤에 바뀝니다.\n"
     ]
    }
   ],
   "source": [
    "# 초단위 기준 신호 시간\n",
    "DEFAULT_STOP_TIME = 30\n",
    "# 기준 통행량(차량 수)\n",
    "DEFAULT_TRAFFIC = 5\n",
    "# 보행자 통행 시간\n",
    "CROSSING_TIME = 5\n",
    "\n",
    "# 통행량\n",
    "traffic = 1\n",
    "# 신호 시간\n",
    "traffic_time = int(traffic/DEFAULT_TRAFFIC*DEFAULT_STOP_TIME)\n",
    "\n",
    "message = message = f\"신호가 {traffic_time}초 뒤에 바뀝니다.\"\n",
    "end_message = \"신호가 바뀌었습니다.\"\n",
    "print(message)"
   ]
  },
  {
   "cell_type": "code",
   "execution_count": 4,
   "id": "d66145d9-3714-44f7-bd68-fd551aadbd8f",
   "metadata": {},
   "outputs": [
    {
     "name": "stdout",
     "output_type": "stream",
     "text": [
      "황색신호\n",
      "적색신호\n",
      "녹색신호\n"
     ]
    }
   ],
   "source": [
    "from gtts import gTTS\n",
    "import os\n",
    "import playsound\n",
    "import time\n",
    "\n",
    "# 구글 tts\n",
    "def speak(text):\n",
    "    tts = gTTS(text=text, lang='ko')\n",
    "    filename='gtts_voice.mp3'\n",
    "    tts.save(filename)\n",
    "    playsound.playsound(filename)\n",
    "    os.remove(filename)\n",
    "\n",
    "# 신호 변경 로직\n",
    "def change_traffic_sign(traffic_time):\n",
    "    speak(message)\n",
    "    time.sleep(traffic_time - 1)\n",
    "    print(\"황색신호\")\n",
    "    time.sleep(1)\n",
    "    print(\"적색신호\")\n",
    "    speak(end_message)\n",
    "    time.sleep(CROSSING_TIME)\n",
    "    print(\"녹색신호\")\n",
    "\n",
    "change_traffic_sign(traffic_time)"
   ]
  },
  {
   "cell_type": "code",
   "execution_count": null,
   "id": "01eb9d67-ab9e-457b-9fb6-ce23aa31316f",
   "metadata": {},
   "outputs": [],
   "source": []
  }
 ],
 "metadata": {
  "kernelspec": {
   "display_name": "Python [conda env:base] *",
   "language": "python",
   "name": "conda-base-py"
  },
  "language_info": {
   "codemirror_mode": {
    "name": "ipython",
    "version": 3
   },
   "file_extension": ".py",
   "mimetype": "text/x-python",
   "name": "python",
   "nbconvert_exporter": "python",
   "pygments_lexer": "ipython3",
   "version": "3.12.7"
  }
 },
 "nbformat": 4,
 "nbformat_minor": 5
}
